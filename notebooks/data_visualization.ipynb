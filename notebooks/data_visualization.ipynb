{
 "cells": [
  {
   "cell_type": "code",
   "execution_count": 1,
   "id": "7ae15f50",
   "metadata": {},
   "outputs": [],
   "source": [
    "# import libraries\n",
    "\n",
    "import numpy as np\n",
    "import pandas as pd\n",
    "import psycopg2\n",
    "\n",
    "import matplotlib.pyplot as plt\n",
    "import seaborn as sns\n",
    "import os\n",
    "from dotenv import load_dotenv\n",
    "import warnings\n",
    "warnings.filterwarnings(\"ignore\")"
   ]
  },
  {
   "cell_type": "code",
   "execution_count": 2,
   "id": "ea51a3b1",
   "metadata": {},
   "outputs": [],
   "source": [
    "# connect to Redshift\n",
    "load dotenv()\n",
    "load_dotenv()\n",
    "dbname = os.getenv(\"dbname\")\n",
    "host = os.getenv(\"host\")\n",
    "port = os.getenv(\"port\")\n",
    "user = os.getenv(\"user\")\n",
    "password = os.getenv(\"password\")"
   ]
  },
  {
   "cell_type": "code",
   "execution_count": 3,
   "id": "4d78a945",
   "metadata": {},
   "outputs": [],
   "source": [
    "connect = psycopg2.connect(dbname=dbname, host=host, port=port, user=user, password=password)\n",
    "cursor = connect.cursor()"
   ]
  },
  {
   "cell_type": "code",
   "execution_count": 4,
   "id": "b730d9c6",
   "metadata": {},
   "outputs": [
    {
     "data": {
      "text/html": [
       "<div>\n",
       "<style scoped>\n",
       "    .dataframe tbody tr th:only-of-type {\n",
       "        vertical-align: middle;\n",
       "    }\n",
       "\n",
       "    .dataframe tbody tr th {\n",
       "        vertical-align: top;\n",
       "    }\n",
       "\n",
       "    .dataframe thead th {\n",
       "        text-align: right;\n",
       "    }\n",
       "</style>\n",
       "<table border=\"1\" class=\"dataframe\">\n",
       "  <thead>\n",
       "    <tr style=\"text-align: right;\">\n",
       "      <th></th>\n",
       "      <th>invoice</th>\n",
       "      <th>stock_code</th>\n",
       "      <th>description</th>\n",
       "      <th>price</th>\n",
       "      <th>quantity</th>\n",
       "      <th>total_order_value</th>\n",
       "      <th>invoice_date</th>\n",
       "      <th>customer_id</th>\n",
       "      <th>country</th>\n",
       "    </tr>\n",
       "  </thead>\n",
       "  <tbody>\n",
       "    <tr>\n",
       "      <th>0</th>\n",
       "      <td>536381</td>\n",
       "      <td>37444A</td>\n",
       "      <td>YELLOW BREAKFAST CUP AND SAUCER</td>\n",
       "      <td>2.95</td>\n",
       "      <td>1</td>\n",
       "      <td>2.95</td>\n",
       "      <td>2010-12-01 09:41:00</td>\n",
       "      <td>u15311</td>\n",
       "      <td>United Kingdom</td>\n",
       "    </tr>\n",
       "    <tr>\n",
       "      <th>1</th>\n",
       "      <td>536384</td>\n",
       "      <td>22189</td>\n",
       "      <td>CREAM HEART CARD HOLDER</td>\n",
       "      <td>3.95</td>\n",
       "      <td>4</td>\n",
       "      <td>15.80</td>\n",
       "      <td>2010-12-01 09:53:00</td>\n",
       "      <td>u18074</td>\n",
       "      <td>United Kingdom</td>\n",
       "    </tr>\n",
       "    <tr>\n",
       "      <th>2</th>\n",
       "      <td>536390</td>\n",
       "      <td>22960</td>\n",
       "      <td>JAM MAKING SET WITH JARS</td>\n",
       "      <td>3.75</td>\n",
       "      <td>12</td>\n",
       "      <td>45.00</td>\n",
       "      <td>2010-12-01 10:19:00</td>\n",
       "      <td>u17511</td>\n",
       "      <td>United Kingdom</td>\n",
       "    </tr>\n",
       "    <tr>\n",
       "      <th>3</th>\n",
       "      <td>536392</td>\n",
       "      <td>21891</td>\n",
       "      <td>TRADITIONAL WOODEN SKIPPING ROPE</td>\n",
       "      <td>1.25</td>\n",
       "      <td>12</td>\n",
       "      <td>15.00</td>\n",
       "      <td>2010-12-01 10:29:00</td>\n",
       "      <td>u13705</td>\n",
       "      <td>United Kingdom</td>\n",
       "    </tr>\n",
       "    <tr>\n",
       "      <th>4</th>\n",
       "      <td>536396</td>\n",
       "      <td>82494L</td>\n",
       "      <td>WOODEN FRAME ANTIQUE WHITE</td>\n",
       "      <td>2.55</td>\n",
       "      <td>12</td>\n",
       "      <td>30.60</td>\n",
       "      <td>2010-12-01 10:51:00</td>\n",
       "      <td>u1785</td>\n",
       "      <td>United Kingdom</td>\n",
       "    </tr>\n",
       "  </tbody>\n",
       "</table>\n",
       "</div>"
      ],
      "text/plain": [
       "  invoice stock_code                       description  price  quantity  \\\n",
       "0  536381     37444A   YELLOW BREAKFAST CUP AND SAUCER   2.95         1   \n",
       "1  536384      22189           CREAM HEART CARD HOLDER   3.95         4   \n",
       "2  536390      22960          JAM MAKING SET WITH JARS   3.75        12   \n",
       "3  536392      21891  TRADITIONAL WOODEN SKIPPING ROPE   1.25        12   \n",
       "4  536396     82494L       WOODEN FRAME ANTIQUE WHITE    2.55        12   \n",
       "\n",
       "   total_order_value        invoice_date customer_id         country  \n",
       "0               2.95 2010-12-01 09:41:00      u15311  United Kingdom  \n",
       "1              15.80 2010-12-01 09:53:00      u18074  United Kingdom  \n",
       "2              45.00 2010-12-01 10:19:00      u17511  United Kingdom  \n",
       "3              15.00 2010-12-01 10:29:00      u13705  United Kingdom  \n",
       "4              30.60 2010-12-01 10:51:00       u1785  United Kingdom  "
      ]
     },
     "execution_count": 4,
     "metadata": {},
     "output_type": "execute_result"
    }
   ],
   "source": [
    "query=\"\"\"\n",
    "select *\n",
    "from bootcamp.online_transactions_cleaned\n",
    "\"\"\"\n",
    "online_trans_cleaned=pd.read_sql(query, connect)\n",
    "online_trans_cleaned.head()\n"
   ]
  },
  {
   "cell_type": "code",
   "execution_count": 5,
   "id": "9f01b32e",
   "metadata": {},
   "outputs": [
    {
     "data": {
      "text/plain": [
       "country\n",
       "United Kingdom    3943\n",
       "Germany             95\n",
       "France              87\n",
       "Spain               30\n",
       "Belgium             25\n",
       "Switzerland         21\n",
       "Portugal            19\n",
       "Italy               14\n",
       "Finland             12\n",
       "Austria             11\n",
       "Name: customer_id, dtype: int64"
      ]
     },
     "execution_count": 5,
     "metadata": {},
     "output_type": "execute_result"
    }
   ],
   "source": [
    "# top ten most popular geographical locations\n",
    "\n",
    "online_trans_cleaned.groupby(\"country\").customer_id.nunique().sort_values(ascending=False).head(10)"
   ]
  },
  {
   "cell_type": "code",
   "execution_count": 6,
   "id": "5f8ff987",
   "metadata": {},
   "outputs": [
    {
     "data": {
      "text/plain": [
       "country\n",
       "United Kingdom    6815375.093\n",
       "Name: total_order_value, dtype: float64"
      ]
     },
     "execution_count": 6,
     "metadata": {},
     "output_type": "execute_result"
    }
   ],
   "source": [
    "# Which country spends the most?\n",
    "\n",
    "online_trans_cleaned.groupby(\"country\").total_order_value.sum().sort_values(ascending=False).head(1)\n"
   ]
  },
  {
   "cell_type": "code",
   "execution_count": 7,
   "id": "793e8ab4",
   "metadata": {},
   "outputs": [
    {
     "data": {
      "text/html": [
       "<div>\n",
       "<style scoped>\n",
       "    .dataframe tbody tr th:only-of-type {\n",
       "        vertical-align: middle;\n",
       "    }\n",
       "\n",
       "    .dataframe tbody tr th {\n",
       "        vertical-align: top;\n",
       "    }\n",
       "\n",
       "    .dataframe thead th {\n",
       "        text-align: right;\n",
       "    }\n",
       "</style>\n",
       "<table border=\"1\" class=\"dataframe\">\n",
       "  <thead>\n",
       "    <tr style=\"text-align: right;\">\n",
       "      <th></th>\n",
       "      <th>invoice</th>\n",
       "      <th>stock_code</th>\n",
       "      <th>description</th>\n",
       "      <th>price</th>\n",
       "      <th>quantity</th>\n",
       "      <th>total_order_value</th>\n",
       "      <th>invoice_date</th>\n",
       "      <th>customer_id</th>\n",
       "      <th>country</th>\n",
       "      <th>year</th>\n",
       "      <th>month</th>\n",
       "    </tr>\n",
       "  </thead>\n",
       "  <tbody>\n",
       "    <tr>\n",
       "      <th>0</th>\n",
       "      <td>536381</td>\n",
       "      <td>37444A</td>\n",
       "      <td>YELLOW BREAKFAST CUP AND SAUCER</td>\n",
       "      <td>2.95</td>\n",
       "      <td>1</td>\n",
       "      <td>2.95</td>\n",
       "      <td>2010-12-01 09:41:00</td>\n",
       "      <td>u15311</td>\n",
       "      <td>United Kingdom</td>\n",
       "      <td>2010</td>\n",
       "      <td>12</td>\n",
       "    </tr>\n",
       "    <tr>\n",
       "      <th>1</th>\n",
       "      <td>536384</td>\n",
       "      <td>22189</td>\n",
       "      <td>CREAM HEART CARD HOLDER</td>\n",
       "      <td>3.95</td>\n",
       "      <td>4</td>\n",
       "      <td>15.80</td>\n",
       "      <td>2010-12-01 09:53:00</td>\n",
       "      <td>u18074</td>\n",
       "      <td>United Kingdom</td>\n",
       "      <td>2010</td>\n",
       "      <td>12</td>\n",
       "    </tr>\n",
       "    <tr>\n",
       "      <th>2</th>\n",
       "      <td>536390</td>\n",
       "      <td>22960</td>\n",
       "      <td>JAM MAKING SET WITH JARS</td>\n",
       "      <td>3.75</td>\n",
       "      <td>12</td>\n",
       "      <td>45.00</td>\n",
       "      <td>2010-12-01 10:19:00</td>\n",
       "      <td>u17511</td>\n",
       "      <td>United Kingdom</td>\n",
       "      <td>2010</td>\n",
       "      <td>12</td>\n",
       "    </tr>\n",
       "    <tr>\n",
       "      <th>3</th>\n",
       "      <td>536392</td>\n",
       "      <td>21891</td>\n",
       "      <td>TRADITIONAL WOODEN SKIPPING ROPE</td>\n",
       "      <td>1.25</td>\n",
       "      <td>12</td>\n",
       "      <td>15.00</td>\n",
       "      <td>2010-12-01 10:29:00</td>\n",
       "      <td>u13705</td>\n",
       "      <td>United Kingdom</td>\n",
       "      <td>2010</td>\n",
       "      <td>12</td>\n",
       "    </tr>\n",
       "    <tr>\n",
       "      <th>4</th>\n",
       "      <td>536396</td>\n",
       "      <td>82494L</td>\n",
       "      <td>WOODEN FRAME ANTIQUE WHITE</td>\n",
       "      <td>2.55</td>\n",
       "      <td>12</td>\n",
       "      <td>30.60</td>\n",
       "      <td>2010-12-01 10:51:00</td>\n",
       "      <td>u1785</td>\n",
       "      <td>United Kingdom</td>\n",
       "      <td>2010</td>\n",
       "      <td>12</td>\n",
       "    </tr>\n",
       "  </tbody>\n",
       "</table>\n",
       "</div>"
      ],
      "text/plain": [
       "  invoice stock_code                       description  price  quantity  \\\n",
       "0  536381     37444A   YELLOW BREAKFAST CUP AND SAUCER   2.95         1   \n",
       "1  536384      22189           CREAM HEART CARD HOLDER   3.95         4   \n",
       "2  536390      22960          JAM MAKING SET WITH JARS   3.75        12   \n",
       "3  536392      21891  TRADITIONAL WOODEN SKIPPING ROPE   1.25        12   \n",
       "4  536396     82494L       WOODEN FRAME ANTIQUE WHITE    2.55        12   \n",
       "\n",
       "   total_order_value        invoice_date customer_id         country  year  \\\n",
       "0               2.95 2010-12-01 09:41:00      u15311  United Kingdom  2010   \n",
       "1              15.80 2010-12-01 09:53:00      u18074  United Kingdom  2010   \n",
       "2              45.00 2010-12-01 10:19:00      u17511  United Kingdom  2010   \n",
       "3              15.00 2010-12-01 10:29:00      u13705  United Kingdom  2010   \n",
       "4              30.60 2010-12-01 10:51:00       u1785  United Kingdom  2010   \n",
       "\n",
       "   month  \n",
       "0     12  \n",
       "1     12  \n",
       "2     12  \n",
       "3     12  \n",
       "4     12  "
      ]
     },
     "execution_count": 7,
     "metadata": {},
     "output_type": "execute_result"
    }
   ],
   "source": [
    "# Visualize the distribution of Invoices per month\n",
    "\n",
    "online_trans_cleaned[\"year\"] = online_trans_cleaned[\"invoice_date\"].dt.year\n",
    "online_trans_cleaned[\"month\"] = online_trans_cleaned[\"invoice_date\"].dt.month\n",
    "online_trans_cleaned.head()"
   ]
  },
  {
   "cell_type": "code",
   "execution_count": 8,
   "id": "db6f55ed",
   "metadata": {},
   "outputs": [
    {
     "data": {
      "text/plain": [
       "2011    373594\n",
       "2010     26247\n",
       "Name: year, dtype: int64"
      ]
     },
     "execution_count": 8,
     "metadata": {},
     "output_type": "execute_result"
    }
   ],
   "source": [
    "online_trans_cleaned.year.value_counts()"
   ]
  },
  {
   "cell_type": "code",
   "execution_count": 9,
   "id": "84ce8348",
   "metadata": {},
   "outputs": [
    {
     "data": {
      "text/html": [
       "<div>\n",
       "<style scoped>\n",
       "    .dataframe tbody tr th:only-of-type {\n",
       "        vertical-align: middle;\n",
       "    }\n",
       "\n",
       "    .dataframe tbody tr th {\n",
       "        vertical-align: top;\n",
       "    }\n",
       "\n",
       "    .dataframe thead th {\n",
       "        text-align: right;\n",
       "    }\n",
       "</style>\n",
       "<table border=\"1\" class=\"dataframe\">\n",
       "  <thead>\n",
       "    <tr style=\"text-align: right;\">\n",
       "      <th></th>\n",
       "      <th>invoice</th>\n",
       "      <th>stock_code</th>\n",
       "      <th>description</th>\n",
       "      <th>price</th>\n",
       "      <th>quantity</th>\n",
       "      <th>total_order_value</th>\n",
       "      <th>invoice_date</th>\n",
       "      <th>customer_id</th>\n",
       "      <th>country</th>\n",
       "      <th>year</th>\n",
       "      <th>month</th>\n",
       "    </tr>\n",
       "  </thead>\n",
       "  <tbody>\n",
       "    <tr>\n",
       "      <th>0</th>\n",
       "      <td>536381</td>\n",
       "      <td>37444A</td>\n",
       "      <td>YELLOW BREAKFAST CUP AND SAUCER</td>\n",
       "      <td>2.95</td>\n",
       "      <td>1</td>\n",
       "      <td>2.95</td>\n",
       "      <td>2010-12-01 09:41:00</td>\n",
       "      <td>u15311</td>\n",
       "      <td>United Kingdom</td>\n",
       "      <td>2010</td>\n",
       "      <td>12</td>\n",
       "    </tr>\n",
       "    <tr>\n",
       "      <th>1</th>\n",
       "      <td>536384</td>\n",
       "      <td>22189</td>\n",
       "      <td>CREAM HEART CARD HOLDER</td>\n",
       "      <td>3.95</td>\n",
       "      <td>4</td>\n",
       "      <td>15.80</td>\n",
       "      <td>2010-12-01 09:53:00</td>\n",
       "      <td>u18074</td>\n",
       "      <td>United Kingdom</td>\n",
       "      <td>2010</td>\n",
       "      <td>12</td>\n",
       "    </tr>\n",
       "    <tr>\n",
       "      <th>2</th>\n",
       "      <td>536390</td>\n",
       "      <td>22960</td>\n",
       "      <td>JAM MAKING SET WITH JARS</td>\n",
       "      <td>3.75</td>\n",
       "      <td>12</td>\n",
       "      <td>45.00</td>\n",
       "      <td>2010-12-01 10:19:00</td>\n",
       "      <td>u17511</td>\n",
       "      <td>United Kingdom</td>\n",
       "      <td>2010</td>\n",
       "      <td>12</td>\n",
       "    </tr>\n",
       "    <tr>\n",
       "      <th>3</th>\n",
       "      <td>536392</td>\n",
       "      <td>21891</td>\n",
       "      <td>TRADITIONAL WOODEN SKIPPING ROPE</td>\n",
       "      <td>1.25</td>\n",
       "      <td>12</td>\n",
       "      <td>15.00</td>\n",
       "      <td>2010-12-01 10:29:00</td>\n",
       "      <td>u13705</td>\n",
       "      <td>United Kingdom</td>\n",
       "      <td>2010</td>\n",
       "      <td>12</td>\n",
       "    </tr>\n",
       "    <tr>\n",
       "      <th>4</th>\n",
       "      <td>536396</td>\n",
       "      <td>82494L</td>\n",
       "      <td>WOODEN FRAME ANTIQUE WHITE</td>\n",
       "      <td>2.55</td>\n",
       "      <td>12</td>\n",
       "      <td>30.60</td>\n",
       "      <td>2010-12-01 10:51:00</td>\n",
       "      <td>u1785</td>\n",
       "      <td>United Kingdom</td>\n",
       "      <td>2010</td>\n",
       "      <td>12</td>\n",
       "    </tr>\n",
       "  </tbody>\n",
       "</table>\n",
       "</div>"
      ],
      "text/plain": [
       "  invoice stock_code                       description  price  quantity  \\\n",
       "0  536381     37444A   YELLOW BREAKFAST CUP AND SAUCER   2.95         1   \n",
       "1  536384      22189           CREAM HEART CARD HOLDER   3.95         4   \n",
       "2  536390      22960          JAM MAKING SET WITH JARS   3.75        12   \n",
       "3  536392      21891  TRADITIONAL WOODEN SKIPPING ROPE   1.25        12   \n",
       "4  536396     82494L       WOODEN FRAME ANTIQUE WHITE    2.55        12   \n",
       "\n",
       "   total_order_value        invoice_date customer_id         country  year  \\\n",
       "0               2.95 2010-12-01 09:41:00      u15311  United Kingdom  2010   \n",
       "1              15.80 2010-12-01 09:53:00      u18074  United Kingdom  2010   \n",
       "2              45.00 2010-12-01 10:19:00      u17511  United Kingdom  2010   \n",
       "3              15.00 2010-12-01 10:29:00      u13705  United Kingdom  2010   \n",
       "4              30.60 2010-12-01 10:51:00       u1785  United Kingdom  2010   \n",
       "\n",
       "   month  \n",
       "0     12  \n",
       "1     12  \n",
       "2     12  \n",
       "3     12  \n",
       "4     12  "
      ]
     },
     "execution_count": 9,
     "metadata": {},
     "output_type": "execute_result"
    }
   ],
   "source": [
    "year2010=online_trans_cleaned.loc[online_trans_cleaned[\"year\"]==2010]\n",
    "year2010.head()"
   ]
  },
  {
   "cell_type": "code",
   "execution_count": 10,
   "id": "82984f78",
   "metadata": {},
   "outputs": [
    {
     "data": {
      "text/html": [
       "<div>\n",
       "<style scoped>\n",
       "    .dataframe tbody tr th:only-of-type {\n",
       "        vertical-align: middle;\n",
       "    }\n",
       "\n",
       "    .dataframe tbody tr th {\n",
       "        vertical-align: top;\n",
       "    }\n",
       "\n",
       "    .dataframe thead th {\n",
       "        text-align: right;\n",
       "    }\n",
       "</style>\n",
       "<table border=\"1\" class=\"dataframe\">\n",
       "  <thead>\n",
       "    <tr style=\"text-align: right;\">\n",
       "      <th></th>\n",
       "      <th>invoice</th>\n",
       "      <th>stock_code</th>\n",
       "      <th>description</th>\n",
       "      <th>price</th>\n",
       "      <th>quantity</th>\n",
       "      <th>total_order_value</th>\n",
       "      <th>invoice_date</th>\n",
       "      <th>customer_id</th>\n",
       "      <th>country</th>\n",
       "      <th>year</th>\n",
       "      <th>month</th>\n",
       "    </tr>\n",
       "  </thead>\n",
       "  <tbody>\n",
       "    <tr>\n",
       "      <th>6718</th>\n",
       "      <td>540014</td>\n",
       "      <td>84499</td>\n",
       "      <td>BLACK FLOWER CANDLE PLATE</td>\n",
       "      <td>0.85</td>\n",
       "      <td>6</td>\n",
       "      <td>5.1</td>\n",
       "      <td>2011-01-04 11:34:00</td>\n",
       "      <td>u14606</td>\n",
       "      <td>United Kingdom</td>\n",
       "      <td>2011</td>\n",
       "      <td>1</td>\n",
       "    </tr>\n",
       "    <tr>\n",
       "      <th>6719</th>\n",
       "      <td>540015</td>\n",
       "      <td>21877</td>\n",
       "      <td>HOME SWEET HOME MUG</td>\n",
       "      <td>1.25</td>\n",
       "      <td>12</td>\n",
       "      <td>15.0</td>\n",
       "      <td>2011-01-04 11:40:00</td>\n",
       "      <td>u13319</td>\n",
       "      <td>United Kingdom</td>\n",
       "      <td>2011</td>\n",
       "      <td>1</td>\n",
       "    </tr>\n",
       "    <tr>\n",
       "      <th>6720</th>\n",
       "      <td>540023</td>\n",
       "      <td>22771</td>\n",
       "      <td>CLEAR DRAWER KNOB ACRYLIC EDWARDIAN</td>\n",
       "      <td>1.25</td>\n",
       "      <td>12</td>\n",
       "      <td>15.0</td>\n",
       "      <td>2011-01-04 12:58:00</td>\n",
       "      <td>u15039</td>\n",
       "      <td>United Kingdom</td>\n",
       "      <td>2011</td>\n",
       "      <td>1</td>\n",
       "    </tr>\n",
       "    <tr>\n",
       "      <th>6721</th>\n",
       "      <td>540027</td>\n",
       "      <td>21216</td>\n",
       "      <td>SET 3 RETROSPOT TEA,COFFEE,SUGAR</td>\n",
       "      <td>4.95</td>\n",
       "      <td>4</td>\n",
       "      <td>19.8</td>\n",
       "      <td>2011-01-04 13:30:00</td>\n",
       "      <td>u1421</td>\n",
       "      <td>United Kingdom</td>\n",
       "      <td>2011</td>\n",
       "      <td>1</td>\n",
       "    </tr>\n",
       "    <tr>\n",
       "      <th>6722</th>\n",
       "      <td>540032</td>\n",
       "      <td>22722</td>\n",
       "      <td>SET OF 6 SPICE TINS PANTRY DESIGN</td>\n",
       "      <td>3.95</td>\n",
       "      <td>8</td>\n",
       "      <td>31.6</td>\n",
       "      <td>2011-01-04 13:50:00</td>\n",
       "      <td>u13397</td>\n",
       "      <td>United Kingdom</td>\n",
       "      <td>2011</td>\n",
       "      <td>1</td>\n",
       "    </tr>\n",
       "  </tbody>\n",
       "</table>\n",
       "</div>"
      ],
      "text/plain": [
       "     invoice stock_code                          description  price  quantity  \\\n",
       "6718  540014      84499            BLACK FLOWER CANDLE PLATE   0.85         6   \n",
       "6719  540015      21877                  HOME SWEET HOME MUG   1.25        12   \n",
       "6720  540023      22771  CLEAR DRAWER KNOB ACRYLIC EDWARDIAN   1.25        12   \n",
       "6721  540027      21216     SET 3 RETROSPOT TEA,COFFEE,SUGAR   4.95         4   \n",
       "6722  540032      22722    SET OF 6 SPICE TINS PANTRY DESIGN   3.95         8   \n",
       "\n",
       "      total_order_value        invoice_date customer_id         country  year  \\\n",
       "6718                5.1 2011-01-04 11:34:00      u14606  United Kingdom  2011   \n",
       "6719               15.0 2011-01-04 11:40:00      u13319  United Kingdom  2011   \n",
       "6720               15.0 2011-01-04 12:58:00      u15039  United Kingdom  2011   \n",
       "6721               19.8 2011-01-04 13:30:00       u1421  United Kingdom  2011   \n",
       "6722               31.6 2011-01-04 13:50:00      u13397  United Kingdom  2011   \n",
       "\n",
       "      month  \n",
       "6718      1  \n",
       "6719      1  \n",
       "6720      1  \n",
       "6721      1  \n",
       "6722      1  "
      ]
     },
     "execution_count": 10,
     "metadata": {},
     "output_type": "execute_result"
    }
   ],
   "source": [
    "year2011 = online_trans_cleaned.loc[online_trans_cleaned[\"year\"]==2011]\n",
    "year2011.head()"
   ]
  },
  {
   "cell_type": "code",
   "execution_count": 11,
   "id": "87a3bc67",
   "metadata": {},
   "outputs": [
    {
     "data": {
      "text/plain": [
       "12    26247\n",
       "Name: month, dtype: int64"
      ]
     },
     "execution_count": 11,
     "metadata": {},
     "output_type": "execute_result"
    }
   ],
   "source": [
    "year2010.month.value_counts()"
   ]
  },
  {
   "cell_type": "code",
   "execution_count": 12,
   "id": "cb258638",
   "metadata": {
    "scrolled": true
   },
   "outputs": [
    {
     "data": {
      "text/plain": [
       "11    63974\n",
       "10    49729\n",
       "9     40289\n",
       "5     28522\n",
       "6     27459\n",
       "3     27374\n",
       "8     27309\n",
       "7     27124\n",
       "4     22885\n",
       "1     21570\n",
       "2     20045\n",
       "12    17314\n",
       "Name: month, dtype: int64"
      ]
     },
     "execution_count": 12,
     "metadata": {},
     "output_type": "execute_result"
    }
   ],
   "source": [
    "year2011.month.value_counts()"
   ]
  },
  {
   "cell_type": "code",
   "execution_count": 13,
   "id": "ae5a669e",
   "metadata": {},
   "outputs": [],
   "source": [
    "invoices_per_month = year2011.groupby(\"month\").invoice.nunique()\n"
   ]
  },
  {
   "cell_type": "code",
   "execution_count": 14,
   "id": "0b033fa7",
   "metadata": {},
   "outputs": [
    {
     "data": {
      "text/plain": [
       "912"
      ]
     },
     "execution_count": 14,
     "metadata": {},
     "output_type": "execute_result"
    }
   ],
   "source": [
    "invoices_per_month.min()"
   ]
  },
  {
   "cell_type": "code",
   "execution_count": 15,
   "id": "08435d44",
   "metadata": {},
   "outputs": [
    {
     "data": {
      "text/plain": [
       "3034"
      ]
     },
     "execution_count": 15,
     "metadata": {},
     "output_type": "execute_result"
    }
   ],
   "source": [
    "invoices_per_month.max()"
   ]
  },
  {
   "cell_type": "code",
   "execution_count": 16,
   "id": "2a992d42",
   "metadata": {},
   "outputs": [
    {
     "data": {
      "image/png": "[encoded data removed]",
      "text/plain": [
       "<Figure size 640x480 with 1 Axes>"
      ]
     },
     "metadata": {},
     "output_type": "display_data"
    }
   ],
   "source": [
    "fig = plt.figure()\n",
    "ax = fig.add_axes([0,0,2,2]) \n",
    "ax.bar(invoices_per_month.index, invoices_per_month, color=\"red\", width=0.5)\n",
    "ax.set_title('Invoices per Month-2011', fontsize=30, fontweight=\"bold\")\n",
    "ax.set_xticks(range(1,13))\n",
    "ax.set_xticklabels(['Jan','Feb','Mar','Apr','May','Jun','Jul','Aug','Sep','Oct','Nov','Dec'],fontsize=15)\n",
    "ax.set_xlabel('Month', fontsize=25)\n",
    "ax.set_ylabel(\"Number of Invoices\",fontsize=25)\n",
    "fig.show()"
   ]
  },
  {
   "cell_type": "code",
   "execution_count": 17,
   "id": "d8a5319c",
   "metadata": {},
   "outputs": [],
   "source": [
    "# for 2010:\n",
    "\n",
    "invoices_per_month = year2010.groupby(\"month\").invoice.nunique()\n",
    "\n"
   ]
  },
  {
   "cell_type": "code",
   "execution_count": 18,
   "id": "0587f045",
   "metadata": {},
   "outputs": [
    {
     "data": {
      "image/png": "[encoded data removed]",
      "text/plain": [
       "<Figure size 1500x800 with 1 Axes>"
      ]
     },
     "metadata": {},
     "output_type": "display_data"
    }
   ],
   "source": [
    "fig = plt.figure(figsize=(15,8))\n",
    "ax = fig.add_axes([0,0,1,1]) \n",
    "ax.bar(invoices_per_month.index, invoices_per_month, color=\"red\", width=0.5)\n",
    "ax.set_title('Invoices per Month-2010', fontsize=30, fontweight=\"bold\")\n",
    "ax.set_xticks(range(1,13))\n",
    "ax.set_xticklabels(['Jan','Feb','Mar','Apr','May','Jun','Jul','Aug','Sep','Oct','Nov','Dec'],fontsize=15)\n",
    "ax.set_xlabel('Month', fontsize=25)\n",
    "ax.set_ylabel(\"Number of Invoices\",fontsize=25)\n",
    "fig.show()\n"
   ]
  },
  {
   "cell_type": "code",
   "execution_count": 19,
   "id": "c58da52a",
   "metadata": {},
   "outputs": [
    {
     "data": {
      "text/html": [
       "<div>\n",
       "<style scoped>\n",
       "    .dataframe tbody tr th:only-of-type {\n",
       "        vertical-align: middle;\n",
       "    }\n",
       "\n",
       "    .dataframe tbody tr th {\n",
       "        vertical-align: top;\n",
       "    }\n",
       "\n",
       "    .dataframe thead th {\n",
       "        text-align: right;\n",
       "    }\n",
       "</style>\n",
       "<table border=\"1\" class=\"dataframe\">\n",
       "  <thead>\n",
       "    <tr style=\"text-align: right;\">\n",
       "      <th></th>\n",
       "      <th>invoice</th>\n",
       "      <th>stock_code</th>\n",
       "      <th>description</th>\n",
       "      <th>price</th>\n",
       "      <th>quantity</th>\n",
       "      <th>total_order_value</th>\n",
       "      <th>invoice_date</th>\n",
       "      <th>customer_id</th>\n",
       "      <th>country</th>\n",
       "      <th>year</th>\n",
       "      <th>month</th>\n",
       "      <th>day</th>\n",
       "    </tr>\n",
       "  </thead>\n",
       "  <tbody>\n",
       "    <tr>\n",
       "      <th>0</th>\n",
       "      <td>536381</td>\n",
       "      <td>37444A</td>\n",
       "      <td>YELLOW BREAKFAST CUP AND SAUCER</td>\n",
       "      <td>2.95</td>\n",
       "      <td>1</td>\n",
       "      <td>2.95</td>\n",
       "      <td>2010-12-01 09:41:00</td>\n",
       "      <td>u15311</td>\n",
       "      <td>United Kingdom</td>\n",
       "      <td>2010</td>\n",
       "      <td>12</td>\n",
       "      <td>2</td>\n",
       "    </tr>\n",
       "    <tr>\n",
       "      <th>1</th>\n",
       "      <td>536384</td>\n",
       "      <td>22189</td>\n",
       "      <td>CREAM HEART CARD HOLDER</td>\n",
       "      <td>3.95</td>\n",
       "      <td>4</td>\n",
       "      <td>15.80</td>\n",
       "      <td>2010-12-01 09:53:00</td>\n",
       "      <td>u18074</td>\n",
       "      <td>United Kingdom</td>\n",
       "      <td>2010</td>\n",
       "      <td>12</td>\n",
       "      <td>2</td>\n",
       "    </tr>\n",
       "    <tr>\n",
       "      <th>2</th>\n",
       "      <td>536390</td>\n",
       "      <td>22960</td>\n",
       "      <td>JAM MAKING SET WITH JARS</td>\n",
       "      <td>3.75</td>\n",
       "      <td>12</td>\n",
       "      <td>45.00</td>\n",
       "      <td>2010-12-01 10:19:00</td>\n",
       "      <td>u17511</td>\n",
       "      <td>United Kingdom</td>\n",
       "      <td>2010</td>\n",
       "      <td>12</td>\n",
       "      <td>2</td>\n",
       "    </tr>\n",
       "    <tr>\n",
       "      <th>3</th>\n",
       "      <td>536392</td>\n",
       "      <td>21891</td>\n",
       "      <td>TRADITIONAL WOODEN SKIPPING ROPE</td>\n",
       "      <td>1.25</td>\n",
       "      <td>12</td>\n",
       "      <td>15.00</td>\n",
       "      <td>2010-12-01 10:29:00</td>\n",
       "      <td>u13705</td>\n",
       "      <td>United Kingdom</td>\n",
       "      <td>2010</td>\n",
       "      <td>12</td>\n",
       "      <td>2</td>\n",
       "    </tr>\n",
       "    <tr>\n",
       "      <th>4</th>\n",
       "      <td>536396</td>\n",
       "      <td>82494L</td>\n",
       "      <td>WOODEN FRAME ANTIQUE WHITE</td>\n",
       "      <td>2.55</td>\n",
       "      <td>12</td>\n",
       "      <td>30.60</td>\n",
       "      <td>2010-12-01 10:51:00</td>\n",
       "      <td>u1785</td>\n",
       "      <td>United Kingdom</td>\n",
       "      <td>2010</td>\n",
       "      <td>12</td>\n",
       "      <td>2</td>\n",
       "    </tr>\n",
       "  </tbody>\n",
       "</table>\n",
       "</div>"
      ],
      "text/plain": [
       "  invoice stock_code                       description  price  quantity  \\\n",
       "0  536381     37444A   YELLOW BREAKFAST CUP AND SAUCER   2.95         1   \n",
       "1  536384      22189           CREAM HEART CARD HOLDER   3.95         4   \n",
       "2  536390      22960          JAM MAKING SET WITH JARS   3.75        12   \n",
       "3  536392      21891  TRADITIONAL WOODEN SKIPPING ROPE   1.25        12   \n",
       "4  536396     82494L       WOODEN FRAME ANTIQUE WHITE    2.55        12   \n",
       "\n",
       "   total_order_value        invoice_date customer_id         country  year  \\\n",
       "0               2.95 2010-12-01 09:41:00      u15311  United Kingdom  2010   \n",
       "1              15.80 2010-12-01 09:53:00      u18074  United Kingdom  2010   \n",
       "2              45.00 2010-12-01 10:19:00      u17511  United Kingdom  2010   \n",
       "3              15.00 2010-12-01 10:29:00      u13705  United Kingdom  2010   \n",
       "4              30.60 2010-12-01 10:51:00       u1785  United Kingdom  2010   \n",
       "\n",
       "   month  day  \n",
       "0     12    2  \n",
       "1     12    2  \n",
       "2     12    2  \n",
       "3     12    2  \n",
       "4     12    2  "
      ]
     },
     "execution_count": 19,
     "metadata": {},
     "output_type": "execute_result"
    }
   ],
   "source": [
    "# Which day of week has the highest number of transactions?\n",
    "\n",
    "year2010[\"day\"] = year2010[\"invoice_date\"].dt.weekday\n",
    "year2010.head()"
   ]
  },
  {
   "cell_type": "code",
   "execution_count": 20,
   "id": "7db2ef4d",
   "metadata": {},
   "outputs": [
    {
     "data": {
      "text/plain": [
       "day\n",
       "0    262\n",
       "1    242\n",
       "2    367\n",
       "3    458\n",
       "4    200\n",
       "6    163\n",
       "Name: invoice, dtype: int64"
      ]
     },
     "execution_count": 20,
     "metadata": {},
     "output_type": "execute_result"
    }
   ],
   "source": [
    "invoices_per_day = year2010.groupby(\"day\").invoice.nunique()\n",
    "invoices_per_day"
   ]
  },
  {
   "cell_type": "code",
   "execution_count": 21,
   "id": "d9dda108",
   "metadata": {},
   "outputs": [
    {
     "data": {
      "text/plain": [
       "163"
      ]
     },
     "execution_count": 21,
     "metadata": {},
     "output_type": "execute_result"
    }
   ],
   "source": [
    "invoices_per_day.min()"
   ]
  },
  {
   "cell_type": "code",
   "execution_count": 22,
   "id": "ca525be3",
   "metadata": {},
   "outputs": [
    {
     "data": {
      "text/plain": [
       "458"
      ]
     },
     "execution_count": 22,
     "metadata": {},
     "output_type": "execute_result"
    }
   ],
   "source": [
    "invoices_per_day.max()"
   ]
  },
  {
   "cell_type": "code",
   "execution_count": 23,
   "id": "d28a4bf7",
   "metadata": {},
   "outputs": [
    {
     "data": {
      "image/png": "[encoded data removed]",
      "text/plain": [
       "<Figure size 1500x800 with 1 Axes>"
      ]
     },
     "metadata": {},
     "output_type": "display_data"
    }
   ],
   "source": [
    "fig = plt.figure(figsize=(15,8))\n",
    "\n",
    "ax = sns.barplot(x=invoices_per_day.index, y=invoices_per_day, palette=\"muted\")\n",
    "ax.set_xticks(range(0,6))\n",
    "ax.set_xticklabels(['Mon','Tue','Wed','Thu','Fri','Sun'])\n",
    "ax.set_title('Invoices per day-2010', fontsize=25)\n",
    "ax.set_xlabel('Day', fontsize=15)\n",
    "ax.set_ylabel(\"Number of Invoice\",fontsize=15);\n"
   ]
  },
  {
   "cell_type": "code",
   "execution_count": 24,
   "id": "3e39d2b7",
   "metadata": {},
   "outputs": [
    {
     "data": {
      "text/html": [
       "<div>\n",
       "<style scoped>\n",
       "    .dataframe tbody tr th:only-of-type {\n",
       "        vertical-align: middle;\n",
       "    }\n",
       "\n",
       "    .dataframe tbody tr th {\n",
       "        vertical-align: top;\n",
       "    }\n",
       "\n",
       "    .dataframe thead th {\n",
       "        text-align: right;\n",
       "    }\n",
       "</style>\n",
       "<table border=\"1\" class=\"dataframe\">\n",
       "  <thead>\n",
       "    <tr style=\"text-align: right;\">\n",
       "      <th></th>\n",
       "      <th>invoice</th>\n",
       "      <th>stock_code</th>\n",
       "      <th>description</th>\n",
       "      <th>price</th>\n",
       "      <th>quantity</th>\n",
       "      <th>total_order_value</th>\n",
       "      <th>invoice_date</th>\n",
       "      <th>customer_id</th>\n",
       "      <th>country</th>\n",
       "      <th>year</th>\n",
       "      <th>month</th>\n",
       "      <th>day</th>\n",
       "    </tr>\n",
       "  </thead>\n",
       "  <tbody>\n",
       "    <tr>\n",
       "      <th>6718</th>\n",
       "      <td>540014</td>\n",
       "      <td>84499</td>\n",
       "      <td>BLACK FLOWER CANDLE PLATE</td>\n",
       "      <td>0.85</td>\n",
       "      <td>6</td>\n",
       "      <td>5.1</td>\n",
       "      <td>2011-01-04 11:34:00</td>\n",
       "      <td>u14606</td>\n",
       "      <td>United Kingdom</td>\n",
       "      <td>2011</td>\n",
       "      <td>1</td>\n",
       "      <td>1</td>\n",
       "    </tr>\n",
       "    <tr>\n",
       "      <th>6719</th>\n",
       "      <td>540015</td>\n",
       "      <td>21877</td>\n",
       "      <td>HOME SWEET HOME MUG</td>\n",
       "      <td>1.25</td>\n",
       "      <td>12</td>\n",
       "      <td>15.0</td>\n",
       "      <td>2011-01-04 11:40:00</td>\n",
       "      <td>u13319</td>\n",
       "      <td>United Kingdom</td>\n",
       "      <td>2011</td>\n",
       "      <td>1</td>\n",
       "      <td>1</td>\n",
       "    </tr>\n",
       "    <tr>\n",
       "      <th>6720</th>\n",
       "      <td>540023</td>\n",
       "      <td>22771</td>\n",
       "      <td>CLEAR DRAWER KNOB ACRYLIC EDWARDIAN</td>\n",
       "      <td>1.25</td>\n",
       "      <td>12</td>\n",
       "      <td>15.0</td>\n",
       "      <td>2011-01-04 12:58:00</td>\n",
       "      <td>u15039</td>\n",
       "      <td>United Kingdom</td>\n",
       "      <td>2011</td>\n",
       "      <td>1</td>\n",
       "      <td>1</td>\n",
       "    </tr>\n",
       "    <tr>\n",
       "      <th>6721</th>\n",
       "      <td>540027</td>\n",
       "      <td>21216</td>\n",
       "      <td>SET 3 RETROSPOT TEA,COFFEE,SUGAR</td>\n",
       "      <td>4.95</td>\n",
       "      <td>4</td>\n",
       "      <td>19.8</td>\n",
       "      <td>2011-01-04 13:30:00</td>\n",
       "      <td>u1421</td>\n",
       "      <td>United Kingdom</td>\n",
       "      <td>2011</td>\n",
       "      <td>1</td>\n",
       "      <td>1</td>\n",
       "    </tr>\n",
       "    <tr>\n",
       "      <th>6722</th>\n",
       "      <td>540032</td>\n",
       "      <td>22722</td>\n",
       "      <td>SET OF 6 SPICE TINS PANTRY DESIGN</td>\n",
       "      <td>3.95</td>\n",
       "      <td>8</td>\n",
       "      <td>31.6</td>\n",
       "      <td>2011-01-04 13:50:00</td>\n",
       "      <td>u13397</td>\n",
       "      <td>United Kingdom</td>\n",
       "      <td>2011</td>\n",
       "      <td>1</td>\n",
       "      <td>1</td>\n",
       "    </tr>\n",
       "  </tbody>\n",
       "</table>\n",
       "</div>"
      ],
      "text/plain": [
       "     invoice stock_code                          description  price  quantity  \\\n",
       "6718  540014      84499            BLACK FLOWER CANDLE PLATE   0.85         6   \n",
       "6719  540015      21877                  HOME SWEET HOME MUG   1.25        12   \n",
       "6720  540023      22771  CLEAR DRAWER KNOB ACRYLIC EDWARDIAN   1.25        12   \n",
       "6721  540027      21216     SET 3 RETROSPOT TEA,COFFEE,SUGAR   4.95         4   \n",
       "6722  540032      22722    SET OF 6 SPICE TINS PANTRY DESIGN   3.95         8   \n",
       "\n",
       "      total_order_value        invoice_date customer_id         country  year  \\\n",
       "6718                5.1 2011-01-04 11:34:00      u14606  United Kingdom  2011   \n",
       "6719               15.0 2011-01-04 11:40:00      u13319  United Kingdom  2011   \n",
       "6720               15.0 2011-01-04 12:58:00      u15039  United Kingdom  2011   \n",
       "6721               19.8 2011-01-04 13:30:00       u1421  United Kingdom  2011   \n",
       "6722               31.6 2011-01-04 13:50:00      u13397  United Kingdom  2011   \n",
       "\n",
       "      month  day  \n",
       "6718      1    1  \n",
       "6719      1    1  \n",
       "6720      1    1  \n",
       "6721      1    1  \n",
       "6722      1    1  "
      ]
     },
     "execution_count": 24,
     "metadata": {},
     "output_type": "execute_result"
    }
   ],
   "source": [
    "year2011[\"day\"] = year2011[\"invoice_date\"].dt.weekday\n",
    "year2011.head()"
   ]
  },
  {
   "cell_type": "code",
   "execution_count": 25,
   "id": "6b64154e",
   "metadata": {},
   "outputs": [],
   "source": [
    "invoices_per_day = year2011.groupby(\"day\").invoice.nunique()"
   ]
  },
  {
   "cell_type": "code",
   "execution_count": 26,
   "id": "d62553ed",
   "metadata": {},
   "outputs": [
    {
     "data": {
      "text/plain": [
       "2171"
      ]
     },
     "execution_count": 26,
     "metadata": {},
     "output_type": "execute_result"
    }
   ],
   "source": [
    "invoices_per_day.min()"
   ]
  },
  {
   "cell_type": "code",
   "execution_count": 27,
   "id": "10a2b1fa",
   "metadata": {},
   "outputs": [
    {
     "data": {
      "text/plain": [
       "4430"
      ]
     },
     "execution_count": 27,
     "metadata": {},
     "output_type": "execute_result"
    }
   ],
   "source": [
    "invoices_per_day.max()"
   ]
  },
  {
   "cell_type": "code",
   "execution_count": 28,
   "id": "c4a8fd18",
   "metadata": {},
   "outputs": [
    {
     "data": {
      "image/png": "[encoded data removed]",
      "text/plain": [
       "<Figure size 1500x800 with 1 Axes>"
      ]
     },
     "metadata": {},
     "output_type": "display_data"
    }
   ],
   "source": [
    "fig = plt.figure(figsize=(15,8))\n",
    "\n",
    "ax = sns.barplot(x=invoices_per_day.index, y=invoices_per_day)\n",
    "ax.set_xticks(range(0,6))\n",
    "ax.set_xticklabels(['Mon','Tue','Wed','Thu','Fri','Sun'])\n",
    "ax.set_title('Invoices per day-2011', fontsize=25)\n",
    "ax.set_xlabel('Day', fontsize=15)\n",
    "ax.set_ylabel(\"Number of Invoice\",fontsize=15);"
   ]
  },
  {
   "cell_type": "code",
   "execution_count": 29,
   "id": "3ca87ac9",
   "metadata": {},
   "outputs": [
    {
     "data": {
      "text/plain": [
       "customer_id\n",
       "u14911    243\n",
       "u12748    217\n",
       "u17841    169\n",
       "u14606    125\n",
       "u13089    118\n",
       "u15311    118\n",
       "u12971     88\n",
       "u13408     75\n",
       "u14646     74\n",
       "u16029     66\n",
       "Name: invoice, dtype: int64"
      ]
     },
     "execution_count": 29,
     "metadata": {},
     "output_type": "execute_result"
    }
   ],
   "source": [
    "# Which customers have purchased the most?\n",
    "\n",
    "online_trans_cleaned.groupby(\"customer_id\").invoice.nunique().sort_values(ascending=False).head(10)"
   ]
  },
  {
   "cell_type": "code",
   "execution_count": 30,
   "id": "92c7d513",
   "metadata": {},
   "outputs": [
    {
     "data": {
      "text/plain": [
       "customer_id\n",
       "u13256    0.00\n",
       "u15118    0.17\n",
       "u12875    0.34\n",
       "u13366    0.39\n",
       "u17752    0.42\n",
       "u14609    0.49\n",
       "u15753    0.55\n",
       "u18133    0.69\n",
       "u16881    0.72\n",
       "u13099    0.72\n",
       "Name: price, dtype: float64"
      ]
     },
     "execution_count": 30,
     "metadata": {},
     "output_type": "execute_result"
    }
   ],
   "source": [
    "# Which customers have spent the least amount?\n",
    "\n",
    "online_trans_cleaned.groupby(\"customer_id\").price.sum().sort_values().head(10)"
   ]
  },
  {
   "cell_type": "code",
   "execution_count": 31,
   "id": "029f3124",
   "metadata": {},
   "outputs": [
    {
     "data": {
      "text/plain": [
       "1899.0"
      ]
     },
     "execution_count": 31,
     "metadata": {},
     "output_type": "execute_result"
    }
   ],
   "source": [
    "# Identify customers that have spent more than the average user.\n",
    "\n",
    "avg_per_user = online_trans_cleaned.groupby(\"customer_id\").total_order_value.sum().mean().round()\n",
    "avg_per_user"
   ]
  },
  {
   "cell_type": "code",
   "execution_count": 32,
   "id": "06567f1d",
   "metadata": {},
   "outputs": [
    {
     "data": {
      "text/plain": [
       "customer_id\n",
       "u12346       0.00\n",
       "u12347    4310.00\n",
       "u12348    1437.24\n",
       "u12349    1457.55\n",
       "u1235      294.40\n",
       "           ...   \n",
       "u1828      180.60\n",
       "u18281      80.82\n",
       "u18282     176.60\n",
       "u18283    2039.58\n",
       "u18287    1837.28\n",
       "Name: total_order_value, Length: 4363, dtype: float64"
      ]
     },
     "execution_count": 32,
     "metadata": {},
     "output_type": "execute_result"
    }
   ],
   "source": [
    "total_orders = online_trans_cleaned.groupby(\"customer_id\").total_order_value.sum()\n",
    "total_orders"
   ]
  },
  {
   "cell_type": "code",
   "execution_count": 33,
   "id": "861c5663",
   "metadata": {},
   "outputs": [
    {
     "data": {
      "text/plain": [
       "Index(['u12347', 'u12356', 'u12357', 'u12359', 'u1236', 'u12362', 'u1237',\n",
       "       'u12378', 'u1238', 'u12388',\n",
       "       ...\n",
       "       'u18231', 'u18241', 'u18242', 'u18245', 'u18251', 'u18257', 'u18259',\n",
       "       'u1826', 'u18272', 'u18283'],\n",
       "      dtype='object', name='customer_id', length=901)"
      ]
     },
     "execution_count": 33,
     "metadata": {},
     "output_type": "execute_result"
    }
   ],
   "source": [
    "users_above_avg = total_orders[total_orders > avg_per_user].index\n",
    "users_above_avg"
   ]
  },
  {
   "cell_type": "code",
   "execution_count": 34,
   "id": "ca9cf1b8",
   "metadata": {
    "scrolled": true
   },
   "outputs": [
    {
     "data": {
      "text/html": [
       "<div>\n",
       "<style scoped>\n",
       "    .dataframe tbody tr th:only-of-type {\n",
       "        vertical-align: middle;\n",
       "    }\n",
       "\n",
       "    .dataframe tbody tr th {\n",
       "        vertical-align: top;\n",
       "    }\n",
       "\n",
       "    .dataframe thead th {\n",
       "        text-align: right;\n",
       "    }\n",
       "</style>\n",
       "<table border=\"1\" class=\"dataframe\">\n",
       "  <thead>\n",
       "    <tr style=\"text-align: right;\">\n",
       "      <th></th>\n",
       "      <th>invoice</th>\n",
       "      <th>stock_code</th>\n",
       "      <th>description</th>\n",
       "      <th>price</th>\n",
       "      <th>quantity</th>\n",
       "      <th>total_order_value</th>\n",
       "      <th>invoice_date</th>\n",
       "      <th>customer_id</th>\n",
       "      <th>country</th>\n",
       "      <th>year</th>\n",
       "      <th>month</th>\n",
       "    </tr>\n",
       "  </thead>\n",
       "  <tbody>\n",
       "    <tr>\n",
       "      <th>0</th>\n",
       "      <td>536381</td>\n",
       "      <td>37444A</td>\n",
       "      <td>YELLOW BREAKFAST CUP AND SAUCER</td>\n",
       "      <td>2.95</td>\n",
       "      <td>1</td>\n",
       "      <td>2.95</td>\n",
       "      <td>2010-12-01 09:41:00</td>\n",
       "      <td>u15311</td>\n",
       "      <td>United Kingdom</td>\n",
       "      <td>2010</td>\n",
       "      <td>12</td>\n",
       "    </tr>\n",
       "    <tr>\n",
       "      <th>2</th>\n",
       "      <td>536390</td>\n",
       "      <td>22960</td>\n",
       "      <td>JAM MAKING SET WITH JARS</td>\n",
       "      <td>3.75</td>\n",
       "      <td>12</td>\n",
       "      <td>45.00</td>\n",
       "      <td>2010-12-01 10:19:00</td>\n",
       "      <td>u17511</td>\n",
       "      <td>United Kingdom</td>\n",
       "      <td>2010</td>\n",
       "      <td>12</td>\n",
       "    </tr>\n",
       "    <tr>\n",
       "      <th>4</th>\n",
       "      <td>536396</td>\n",
       "      <td>82494L</td>\n",
       "      <td>WOODEN FRAME ANTIQUE WHITE</td>\n",
       "      <td>2.55</td>\n",
       "      <td>12</td>\n",
       "      <td>30.60</td>\n",
       "      <td>2010-12-01 10:51:00</td>\n",
       "      <td>u1785</td>\n",
       "      <td>United Kingdom</td>\n",
       "      <td>2010</td>\n",
       "      <td>12</td>\n",
       "    </tr>\n",
       "    <tr>\n",
       "      <th>7</th>\n",
       "      <td>536412</td>\n",
       "      <td>22961</td>\n",
       "      <td>JAM MAKING SET PRINTED</td>\n",
       "      <td>1.45</td>\n",
       "      <td>24</td>\n",
       "      <td>34.80</td>\n",
       "      <td>2010-12-01 11:49:00</td>\n",
       "      <td>u1792</td>\n",
       "      <td>United Kingdom</td>\n",
       "      <td>2010</td>\n",
       "      <td>12</td>\n",
       "    </tr>\n",
       "    <tr>\n",
       "      <th>16</th>\n",
       "      <td>536370</td>\n",
       "      <td>22900</td>\n",
       "      <td>SET 2 TEA TOWELS I LOVE LONDON</td>\n",
       "      <td>2.95</td>\n",
       "      <td>24</td>\n",
       "      <td>70.80</td>\n",
       "      <td>2010-12-01 08:45:00</td>\n",
       "      <td>u12583</td>\n",
       "      <td>France</td>\n",
       "      <td>2010</td>\n",
       "      <td>12</td>\n",
       "    </tr>\n",
       "    <tr>\n",
       "      <th>...</th>\n",
       "      <td>...</td>\n",
       "      <td>...</td>\n",
       "      <td>...</td>\n",
       "      <td>...</td>\n",
       "      <td>...</td>\n",
       "      <td>...</td>\n",
       "      <td>...</td>\n",
       "      <td>...</td>\n",
       "      <td>...</td>\n",
       "      <td>...</td>\n",
       "      <td>...</td>\n",
       "    </tr>\n",
       "    <tr>\n",
       "      <th>399831</th>\n",
       "      <td>581476</td>\n",
       "      <td>22728</td>\n",
       "      <td>ALARM CLOCK BAKELIKE PINK</td>\n",
       "      <td>3.75</td>\n",
       "      <td>8</td>\n",
       "      <td>30.00</td>\n",
       "      <td>2011-12-09 08:48:00</td>\n",
       "      <td>u12433</td>\n",
       "      <td>Norway</td>\n",
       "      <td>2011</td>\n",
       "      <td>12</td>\n",
       "    </tr>\n",
       "    <tr>\n",
       "      <th>399832</th>\n",
       "      <td>581476</td>\n",
       "      <td>21158</td>\n",
       "      <td>MOODY GIRL DOOR HANGER</td>\n",
       "      <td>0.39</td>\n",
       "      <td>24</td>\n",
       "      <td>9.36</td>\n",
       "      <td>2011-12-09 08:48:00</td>\n",
       "      <td>u12433</td>\n",
       "      <td>Norway</td>\n",
       "      <td>2011</td>\n",
       "      <td>12</td>\n",
       "    </tr>\n",
       "    <tr>\n",
       "      <th>399833</th>\n",
       "      <td>581478</td>\n",
       "      <td>22909</td>\n",
       "      <td>SET OF 20 VINTAGE CHRISTMAS NAPKINS</td>\n",
       "      <td>0.85</td>\n",
       "      <td>24</td>\n",
       "      <td>20.40</td>\n",
       "      <td>2011-12-09 08:59:00</td>\n",
       "      <td>u17364</td>\n",
       "      <td>United Kingdom</td>\n",
       "      <td>2011</td>\n",
       "      <td>12</td>\n",
       "    </tr>\n",
       "    <tr>\n",
       "      <th>399836</th>\n",
       "      <td>581495</td>\n",
       "      <td>15056N</td>\n",
       "      <td>EDWARDIAN PARASOL NATURAL</td>\n",
       "      <td>5.95</td>\n",
       "      <td>36</td>\n",
       "      <td>214.20</td>\n",
       "      <td>2011-12-09 10:20:00</td>\n",
       "      <td>u14051</td>\n",
       "      <td>United Kingdom</td>\n",
       "      <td>2011</td>\n",
       "      <td>12</td>\n",
       "    </tr>\n",
       "    <tr>\n",
       "      <th>399840</th>\n",
       "      <td>581580</td>\n",
       "      <td>22721</td>\n",
       "      <td>SET OF 3 CAKE TINS SKETCHBOOK</td>\n",
       "      <td>1.95</td>\n",
       "      <td>1</td>\n",
       "      <td>1.95</td>\n",
       "      <td>2011-12-09 12:20:00</td>\n",
       "      <td>u12748</td>\n",
       "      <td>United Kingdom</td>\n",
       "      <td>2011</td>\n",
       "      <td>12</td>\n",
       "    </tr>\n",
       "  </tbody>\n",
       "</table>\n",
       "<p>238737 rows × 11 columns</p>\n",
       "</div>"
      ],
      "text/plain": [
       "       invoice stock_code                          description  price  \\\n",
       "0       536381     37444A      YELLOW BREAKFAST CUP AND SAUCER   2.95   \n",
       "2       536390      22960             JAM MAKING SET WITH JARS   3.75   \n",
       "4       536396     82494L          WOODEN FRAME ANTIQUE WHITE    2.55   \n",
       "7       536412      22961               JAM MAKING SET PRINTED   1.45   \n",
       "16      536370      22900      SET 2 TEA TOWELS I LOVE LONDON    2.95   \n",
       "...        ...        ...                                  ...    ...   \n",
       "399831  581476      22728            ALARM CLOCK BAKELIKE PINK   3.75   \n",
       "399832  581476      21158              MOODY GIRL DOOR HANGER    0.39   \n",
       "399833  581478      22909  SET OF 20 VINTAGE CHRISTMAS NAPKINS   0.85   \n",
       "399836  581495     15056N            EDWARDIAN PARASOL NATURAL   5.95   \n",
       "399840  581580      22721        SET OF 3 CAKE TINS SKETCHBOOK   1.95   \n",
       "\n",
       "        quantity  total_order_value        invoice_date customer_id  \\\n",
       "0              1               2.95 2010-12-01 09:41:00      u15311   \n",
       "2             12              45.00 2010-12-01 10:19:00      u17511   \n",
       "4             12              30.60 2010-12-01 10:51:00       u1785   \n",
       "7             24              34.80 2010-12-01 11:49:00       u1792   \n",
       "16            24              70.80 2010-12-01 08:45:00      u12583   \n",
       "...          ...                ...                 ...         ...   \n",
       "399831         8              30.00 2011-12-09 08:48:00      u12433   \n",
       "399832        24               9.36 2011-12-09 08:48:00      u12433   \n",
       "399833        24              20.40 2011-12-09 08:59:00      u17364   \n",
       "399836        36             214.20 2011-12-09 10:20:00      u14051   \n",
       "399840         1               1.95 2011-12-09 12:20:00      u12748   \n",
       "\n",
       "               country  year  month  \n",
       "0       United Kingdom  2010     12  \n",
       "2       United Kingdom  2010     12  \n",
       "4       United Kingdom  2010     12  \n",
       "7       United Kingdom  2010     12  \n",
       "16              France  2010     12  \n",
       "...                ...   ...    ...  \n",
       "399831          Norway  2011     12  \n",
       "399832          Norway  2011     12  \n",
       "399833  United Kingdom  2011     12  \n",
       "399836  United Kingdom  2011     12  \n",
       "399840  United Kingdom  2011     12  \n",
       "\n",
       "[238737 rows x 11 columns]"
      ]
     },
     "execution_count": 34,
     "metadata": {},
     "output_type": "execute_result"
    }
   ],
   "source": [
    "above_avg = online_trans_cleaned[online_trans_cleaned.customer_id.isin(users_above_avg)]\n",
    "above_avg"
   ]
  },
  {
   "cell_type": "code",
   "execution_count": 35,
   "id": "62b29f53",
   "metadata": {},
   "outputs": [],
   "source": [
    "# Aggregating data:"
   ]
  },
  {
   "cell_type": "code",
   "execution_count": 72,
   "id": "81560bfd",
   "metadata": {},
   "outputs": [],
   "source": [
    "first_order = online_trans_cleaned.groupby(\"customer_id\")[\"invoice_date\"].min()\n",
    "last_order = online_trans_cleaned.groupby(\"customer_id\")[\"invoice_date\"].max()"
   ]
  },
  {
   "cell_type": "code",
   "execution_count": 77,
   "id": "be8921d5",
   "metadata": {},
   "outputs": [
    {
     "data": {
      "text/html": [
       "<div>\n",
       "<style scoped>\n",
       "    .dataframe tbody tr th:only-of-type {\n",
       "        vertical-align: middle;\n",
       "    }\n",
       "\n",
       "    .dataframe tbody tr th {\n",
       "        vertical-align: top;\n",
       "    }\n",
       "\n",
       "    .dataframe thead th {\n",
       "        text-align: right;\n",
       "    }\n",
       "</style>\n",
       "<table border=\"1\" class=\"dataframe\">\n",
       "  <thead>\n",
       "    <tr style=\"text-align: right;\">\n",
       "      <th></th>\n",
       "      <th>invoice_date_x</th>\n",
       "      <th>invoice_date_y</th>\n",
       "      <th>customer_activity</th>\n",
       "    </tr>\n",
       "    <tr>\n",
       "      <th>customer_id</th>\n",
       "      <th></th>\n",
       "      <th></th>\n",
       "      <th></th>\n",
       "    </tr>\n",
       "  </thead>\n",
       "  <tbody>\n",
       "    <tr>\n",
       "      <th>u12346</th>\n",
       "      <td>2011-01-18 10:01:00</td>\n",
       "      <td>2011-01-18 10:17:00</td>\n",
       "      <td>0 days 00:16:00</td>\n",
       "    </tr>\n",
       "    <tr>\n",
       "      <th>u12347</th>\n",
       "      <td>2010-12-07 14:57:00</td>\n",
       "      <td>2011-12-07 15:52:00</td>\n",
       "      <td>365 days 00:55:00</td>\n",
       "    </tr>\n",
       "    <tr>\n",
       "      <th>u12348</th>\n",
       "      <td>2010-12-16 19:09:00</td>\n",
       "      <td>2011-09-25 13:13:00</td>\n",
       "      <td>282 days 18:04:00</td>\n",
       "    </tr>\n",
       "    <tr>\n",
       "      <th>u12349</th>\n",
       "      <td>2011-11-21 09:51:00</td>\n",
       "      <td>2011-11-21 09:51:00</td>\n",
       "      <td>0 days 00:00:00</td>\n",
       "    </tr>\n",
       "    <tr>\n",
       "      <th>u1235</th>\n",
       "      <td>2011-02-02 16:01:00</td>\n",
       "      <td>2011-02-02 16:01:00</td>\n",
       "      <td>0 days 00:00:00</td>\n",
       "    </tr>\n",
       "  </tbody>\n",
       "</table>\n",
       "</div>"
      ],
      "text/plain": [
       "                 invoice_date_x      invoice_date_y customer_activity\n",
       "customer_id                                                          \n",
       "u12346      2011-01-18 10:01:00 2011-01-18 10:17:00   0 days 00:16:00\n",
       "u12347      2010-12-07 14:57:00 2011-12-07 15:52:00 365 days 00:55:00\n",
       "u12348      2010-12-16 19:09:00 2011-09-25 13:13:00 282 days 18:04:00\n",
       "u12349      2011-11-21 09:51:00 2011-11-21 09:51:00   0 days 00:00:00\n",
       "u1235       2011-02-02 16:01:00 2011-02-02 16:01:00   0 days 00:00:00"
      ]
     },
     "execution_count": 77,
     "metadata": {},
     "output_type": "execute_result"
    }
   ],
   "source": [
    "activity = pd.merge(first_order,last_order, on=\"customer_id\", how=\"inner\")\n",
    "activity[\"customer_activity\"] = abs(activity[\"invoice_date_x\"]-activity[\"invoice_date_y\"])\n",
    "activity.head()"
   ]
  },
  {
   "cell_type": "code",
   "execution_count": 78,
   "id": "9f18c9c8",
   "metadata": {},
   "outputs": [
    {
     "data": {
      "text/plain": [
       "0 days    1329\n",
       "Name: customer_activity, dtype: int64"
      ]
     },
     "execution_count": 78,
     "metadata": {},
     "output_type": "execute_result"
    }
   ],
   "source": [
    "non_returners = activity.loc[activity[\"invoice_date_x\"] == activity[\"invoice_date_y\"]]\n",
    "non_returners.customer_activity.value_counts()"
   ]
  },
  {
   "cell_type": "code",
   "execution_count": 79,
   "id": "ba3a8d90",
   "metadata": {},
   "outputs": [
    {
     "data": {
      "text/html": [
       "<div>\n",
       "<style scoped>\n",
       "    .dataframe tbody tr th:only-of-type {\n",
       "        vertical-align: middle;\n",
       "    }\n",
       "\n",
       "    .dataframe tbody tr th {\n",
       "        vertical-align: top;\n",
       "    }\n",
       "\n",
       "    .dataframe thead th {\n",
       "        text-align: right;\n",
       "    }\n",
       "</style>\n",
       "<table border=\"1\" class=\"dataframe\">\n",
       "  <thead>\n",
       "    <tr style=\"text-align: right;\">\n",
       "      <th></th>\n",
       "      <th>customer_id</th>\n",
       "      <th>invoice_date_x</th>\n",
       "      <th>invoice_date_y</th>\n",
       "      <th>customer_activity</th>\n",
       "      <th>invoice</th>\n",
       "      <th>stock_code</th>\n",
       "      <th>description</th>\n",
       "      <th>price</th>\n",
       "      <th>quantity</th>\n",
       "      <th>total_order_value</th>\n",
       "      <th>invoice_date</th>\n",
       "      <th>country</th>\n",
       "      <th>year</th>\n",
       "      <th>month</th>\n",
       "    </tr>\n",
       "  </thead>\n",
       "  <tbody>\n",
       "    <tr>\n",
       "      <th>0</th>\n",
       "      <td>u12349</td>\n",
       "      <td>2011-11-21 09:51:00</td>\n",
       "      <td>2011-11-21 09:51:00</td>\n",
       "      <td>0 days</td>\n",
       "      <td>577609</td>\n",
       "      <td>23439</td>\n",
       "      <td>HAND WARMER RED LOVE HEART</td>\n",
       "      <td>2.10</td>\n",
       "      <td>12</td>\n",
       "      <td>25.20</td>\n",
       "      <td>2011-11-21 09:51:00</td>\n",
       "      <td>Italy</td>\n",
       "      <td>2011</td>\n",
       "      <td>11</td>\n",
       "    </tr>\n",
       "    <tr>\n",
       "      <th>1</th>\n",
       "      <td>u12349</td>\n",
       "      <td>2011-11-21 09:51:00</td>\n",
       "      <td>2011-11-21 09:51:00</td>\n",
       "      <td>0 days</td>\n",
       "      <td>577609</td>\n",
       "      <td>21563</td>\n",
       "      <td>RED HEART SHAPE LOVE BUCKET</td>\n",
       "      <td>2.95</td>\n",
       "      <td>6</td>\n",
       "      <td>17.70</td>\n",
       "      <td>2011-11-21 09:51:00</td>\n",
       "      <td>Italy</td>\n",
       "      <td>2011</td>\n",
       "      <td>11</td>\n",
       "    </tr>\n",
       "    <tr>\n",
       "      <th>2</th>\n",
       "      <td>u12349</td>\n",
       "      <td>2011-11-21 09:51:00</td>\n",
       "      <td>2011-11-21 09:51:00</td>\n",
       "      <td>0 days</td>\n",
       "      <td>577609</td>\n",
       "      <td>21787</td>\n",
       "      <td>RAIN PONCHO RETROSPOT</td>\n",
       "      <td>0.85</td>\n",
       "      <td>24</td>\n",
       "      <td>20.40</td>\n",
       "      <td>2011-11-21 09:51:00</td>\n",
       "      <td>Italy</td>\n",
       "      <td>2011</td>\n",
       "      <td>11</td>\n",
       "    </tr>\n",
       "    <tr>\n",
       "      <th>3</th>\n",
       "      <td>u12349</td>\n",
       "      <td>2011-11-21 09:51:00</td>\n",
       "      <td>2011-11-21 09:51:00</td>\n",
       "      <td>0 days</td>\n",
       "      <td>577609</td>\n",
       "      <td>48185</td>\n",
       "      <td>DOORMAT FAIRY CAKE</td>\n",
       "      <td>8.25</td>\n",
       "      <td>4</td>\n",
       "      <td>33.00</td>\n",
       "      <td>2011-11-21 09:51:00</td>\n",
       "      <td>Italy</td>\n",
       "      <td>2011</td>\n",
       "      <td>11</td>\n",
       "    </tr>\n",
       "    <tr>\n",
       "      <th>4</th>\n",
       "      <td>u12349</td>\n",
       "      <td>2011-11-21 09:51:00</td>\n",
       "      <td>2011-11-21 09:51:00</td>\n",
       "      <td>0 days</td>\n",
       "      <td>577609</td>\n",
       "      <td>23494</td>\n",
       "      <td>VINTAGE DOILY DELUXE SEWING KIT</td>\n",
       "      <td>5.95</td>\n",
       "      <td>3</td>\n",
       "      <td>17.85</td>\n",
       "      <td>2011-11-21 09:51:00</td>\n",
       "      <td>Italy</td>\n",
       "      <td>2011</td>\n",
       "      <td>11</td>\n",
       "    </tr>\n",
       "  </tbody>\n",
       "</table>\n",
       "</div>"
      ],
      "text/plain": [
       "  customer_id      invoice_date_x      invoice_date_y customer_activity  \\\n",
       "0      u12349 2011-11-21 09:51:00 2011-11-21 09:51:00            0 days   \n",
       "1      u12349 2011-11-21 09:51:00 2011-11-21 09:51:00            0 days   \n",
       "2      u12349 2011-11-21 09:51:00 2011-11-21 09:51:00            0 days   \n",
       "3      u12349 2011-11-21 09:51:00 2011-11-21 09:51:00            0 days   \n",
       "4      u12349 2011-11-21 09:51:00 2011-11-21 09:51:00            0 days   \n",
       "\n",
       "  invoice stock_code                       description  price  quantity  \\\n",
       "0  577609      23439        HAND WARMER RED LOVE HEART   2.10        12   \n",
       "1  577609      21563      RED HEART SHAPE LOVE BUCKET    2.95         6   \n",
       "2  577609      21787             RAIN PONCHO RETROSPOT   0.85        24   \n",
       "3  577609      48185                DOORMAT FAIRY CAKE   8.25         4   \n",
       "4  577609      23494  VINTAGE DOILY DELUXE SEWING KIT    5.95         3   \n",
       "\n",
       "   total_order_value        invoice_date country  year  month  \n",
       "0              25.20 2011-11-21 09:51:00   Italy  2011     11  \n",
       "1              17.70 2011-11-21 09:51:00   Italy  2011     11  \n",
       "2              20.40 2011-11-21 09:51:00   Italy  2011     11  \n",
       "3              33.00 2011-11-21 09:51:00   Italy  2011     11  \n",
       "4              17.85 2011-11-21 09:51:00   Italy  2011     11  "
      ]
     },
     "execution_count": 79,
     "metadata": {},
     "output_type": "execute_result"
    }
   ],
   "source": [
    "non_returners_detail = pd.merge(non_returners, online_trans_cleaned, on=\"customer_id\", how=\"left\")\n",
    "non_returners_detail.head()"
   ]
  },
  {
   "cell_type": "code",
   "execution_count": null,
   "id": "e81147e8",
   "metadata": {},
   "outputs": [],
   "source": []
  }
 ],
 "metadata": {
  "kernelspec": {
   "display_name": "Python 3 (ipykernel)",
   "language": "python",
   "name": "python3"
  },
  "language_info": {
   "codemirror_mode": {
    "name": "ipython",
    "version": 3
   },
   "file_extension": ".py",
   "mimetype": "text/x-python",
   "name": "python",
   "nbconvert_exporter": "python",
   "pygments_lexer": "ipython3",
   "version": "3.10.9"
  }
 },
 "nbformat": 4,
 "nbformat_minor": 5
}
